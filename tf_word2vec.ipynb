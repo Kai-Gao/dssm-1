{
 "cells": [
  {
   "cell_type": "code",
   "execution_count": null,
   "metadata": {
    "collapsed": true
   },
   "outputs": [],
   "source": [
    "from __future__ import print_function\n",
    "\n",
    "import tensorflow as tf\n",
    "import numpy as np\n",
    "import matplotlib.pyplot as plt\n",
    "import zipfile\n",
    "from collections import Counter, defaultdict\n",
    "from tqdm import tqdm"
   ]
  },
  {
   "cell_type": "code",
   "execution_count": null,
   "metadata": {
    "collapsed": false,
    "deletable": true,
    "editable": true
   },
   "outputs": [],
   "source": [
    "# Initialization\n",
    "\n",
    "rng = np.random\n",
    "\n",
    "# Parameters\n",
    "learning_rate = 0.001\n",
    "training_epochs = 1000\n",
    "display_step = 5\n",
    "\n",
    "# Network Parameters\n",
    "batch_size = 4\n",
    "vocab_size = 10000\n",
    "n_hidden_1 = 256\n",
    "n_hidden_2 = 256\n",
    "n_embedding = 256\n",
    "positive_samples = 4\n",
    "\n",
    "data_index = 0\n",
    "window_size = 5\n",
    "half_window = round((window_size - 1) / 2)\n",
    "num_skips = 2\n",
    "words_per_batch = round(batch_size / num_skips)\n",
    "\n",
    "\n",
    "# Model itself\n",
    "layer_input = tf.placeholder(\"float\", [batch_size, vocab_size], \"layer_input\")\n",
    "layer_output_nums = tf.placeholder(tf.int32, [batch_size, positive_samples], \"layer_output\")\n",
    "\n",
    "w_l1 = tf.Variable(tf.random_normal([vocab_size, n_hidden_1]))\n",
    "w_l1_bias = tf.Variable(tf.random_normal([n_hidden_1]))\n",
    "layer_1_sum = tf.add(tf.matmul(layer_input, w_l1), w_l1_bias)\n",
    "layer_1 = tf.nn.relu(layer_1_sum)\n",
    "\n",
    "\n",
    "w_l2 = tf.Variable(tf.random_normal([n_hidden_1, n_hidden_2]))\n",
    "w_l2_bias = tf.Variable(tf.random_normal([n_hidden_2]))\n",
    "layer_2_sum = tf.add(tf.matmul(layer_1, w_l2), w_l2_bias)\n",
    "# No relu here!\n",
    "# layer_2 = tf.nn.relu(layer_2_sum)\n",
    "\n",
    "w_out = tf.Variable(tf.random_normal([vocab_size, n_hidden_2]))\n",
    "w_out_bias = tf.Variable(tf.random_normal([vocab_size]))\n",
    "\n",
    "loss = tf.nn.sampled_softmax_loss(w_out, w_out_bias, layer_output_nums, layer_2_sum, \n",
    "                                  num_sampled = batch_size, num_classes = vocab_size, num_true = positive_samples)\n",
    "cost = tf.reduce_mean(loss)\n",
    "optimizer = tf.train.AdamOptimizer(learning_rate=0.01).minimize(cost)\n",
    "\n",
    "init = tf.global_variables_initializer()\n",
    "train_inputs = tf.placeholder(tf.float64, shape=[batch_size, vocab_size], name = \"train_inputs\")"
   ]
  },
  {
   "cell_type": "code",
   "execution_count": null,
   "metadata": {
    "collapsed": false,
    "deletable": true,
    "editable": true
   },
   "outputs": [],
   "source": [
    "# Preparing the data (structure ripped from Word2Vec example in TensorFlow)\n",
    "\n",
    "\n",
    "data_index = 0\n",
    "\n",
    "def explode_word(word):\n",
    "    w = \"#\" + word + \"#\"\n",
    "    for i in range(0, len(w)-3+1):\n",
    "        yield w[i:i+3]\n",
    "\n",
    "def read_data(filename):\n",
    "    \"\"\"Extract the first file enclosed in a zip file as a list of words\"\"\"\n",
    "    with zipfile.ZipFile(filename) as f:\n",
    "        data = tf.compat.as_str(f.read(f.namelist()[0])).split()\n",
    "    return data\n",
    "\n",
    "words = read_data(\"text8.zip\")\n",
    "\n",
    "count = Counter()\n",
    "for w in tqdm(words):\n",
    "    count.update(explode_word(w))\n",
    "\n",
    "count = [[\"###\", -1]] + count.most_common(vocab_size - 1)\n",
    "dictionary = defaultdict(lambda: 0)\n",
    "\n",
    "for i, k in enumerate(count):\n",
    "    dictionary[k[0]] = i\n",
    "\n",
    "known_trigrams = set(dictionary.keys())"
   ]
  },
  {
   "cell_type": "code",
   "execution_count": null,
   "metadata": {
    "collapsed": true,
    "deletable": true,
    "editable": true
   },
   "outputs": [],
   "source": [
    "def word2tri(word):\n",
    "    w = \"#\" + word + \"#\"\n",
    "    for i in range(0, len(w)-3+1):\n",
    "        yield dictionary[w[i:i+3]]\n",
    "\n",
    "def generate_batch():\n",
    "    global data_index\n",
    "    buffer_x = [] # batch_size X vocab_size\n",
    "    buffer_y = [] # batch_size X positive_samples\n",
    "    for _ in range(words_per_batch):\n",
    "        # Filling in this particular x\n",
    "        x = [0] * vocab_size\n",
    "        for i in word2tri(words[data_index + half_window]):\n",
    "            x[i] = 1\n",
    "        \n",
    "        # And sampling several y's:\n",
    "        for _ in range(num_skips):\n",
    "            y = [0] * positive_samples\n",
    "            \n",
    "            sample_word = rng.randint(-half_window, half_window - 1)\n",
    "            if half_window >= 0: \n",
    "                sample_word += 1 # No zeroes allowed!\n",
    "            \n",
    "            sample_tris = list(word2tri(words[data_index + half_window + sample_word]))\n",
    "            for i, k in enumerate(rng.choice(sample_tris, positive_samples)):\n",
    "                y[i] = k\n",
    "            \n",
    "            buffer_x.append(x)\n",
    "            buffer_y.append(y)\n",
    "        \n",
    "        data_index = (data_index + 1) % (vocab_size - window_size)\n",
    "    return buffer_x, buffer_y"
   ]
  },
  {
   "cell_type": "code",
   "execution_count": null,
   "metadata": {
    "collapsed": false,
    "deletable": true,
    "editable": true
   },
   "outputs": [],
   "source": [
    "# Bits of testing\n",
    "\n",
    "for i in range(0, 6):\n",
    "    print(list(word2tri(words[i])))\n",
    "    \n",
    "X, Y = generate_batch()\n",
    "for i,k in enumerate(X[0]):\n",
    "    if k!=0: print(i)"
   ]
  },
  {
   "cell_type": "code",
   "execution_count": null,
   "metadata": {
    "collapsed": false,
    "deletable": true,
    "editable": true
   },
   "outputs": [],
   "source": [
    "# Running the model\n",
    "\n",
    "np.set_printoptions(precision=3)\n",
    "saver = tf.train.Saver()\n",
    "\n",
    "with tf.Session() as sess:\n",
    "    sess.run(init)\n",
    "\n",
    "    # Training cycle\n",
    "    for epoch in range(training_epochs):\n",
    "        cc = []\n",
    "        for _ in range(round((vocab_size - window_size) / words_per_batch)):\n",
    "            batch_x, batch_y = generate_batch()\n",
    "            _, c = sess.run([optimizer, cost], feed_dict={layer_input: batch_x, layer_output_nums: batch_y})\n",
    "            cc.append(c)\n",
    "        if epoch % display_step == 0:\n",
    "            print(\"Epoch:\", '%04d' % (epoch+1), \"cost=\", \"{:.9f}\".format(np.mean(np.array(cc))))\n",
    "            saver.save(sess, str('my-model-2' + str(epoch)))"
   ]
  },
  {
   "cell_type": "code",
   "execution_count": null,
   "metadata": {
    "collapsed": false,
    "deletable": true,
    "editable": true
   },
   "outputs": [],
   "source": [
    "words_to_test = [\"anarchy\", \"politics\", \"cat\"]\n",
    "\n",
    "vectors = []\n",
    "\n",
    "with tf.Session() as sess:\n",
    "    # Restore variables from disk.\n",
    "    saver.restore(sess, \"my-model-2995\")\n",
    "    for w in words_to_test:\n",
    "        print(w)\n",
    "        print(list(word2tri(w)))\n",
    "        \n",
    "        x = [0] * vocab_size\n",
    "        for i in word2tri(w):\n",
    "            x[i] = 1\n",
    "        buffer_x = []\n",
    "        for _ in range(batch_size):\n",
    "            buffer_x.append(x)\n",
    "        v = sess.run([layer_2_sum], feed_dict={layer_input: buffer_x})[0]\n",
    "        vectors.append(v[0])\n",
    "    print(\"Done\")"
   ]
  },
  {
   "cell_type": "code",
   "execution_count": null,
   "metadata": {
    "collapsed": false,
    "deletable": true,
    "editable": true
   },
   "outputs": [],
   "source": [
    "def dist(a, b):\n",
    "    return np.dot(a, b) / np.linalg.norm(a) / np.linalg.norm(b)\n",
    "\n",
    "for i in range(len(vectors)):\n",
    "    print(dist(vectors[0], vectors[i]))"
   ]
  }
 ],
 "metadata": {
  "kernelspec": {
   "display_name": "Python 3",
   "language": "python",
   "name": "python3"
  },
  "language_info": {
   "codemirror_mode": {
    "name": "ipython",
    "version": 3
   },
   "file_extension": ".py",
   "mimetype": "text/x-python",
   "name": "python",
   "nbconvert_exporter": "python",
   "pygments_lexer": "ipython3",
   "version": "3.5.2+"
  }
 },
 "nbformat": 4,
 "nbformat_minor": 2
}
